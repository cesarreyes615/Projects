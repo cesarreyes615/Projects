{
 "cells": [
  {
   "cell_type": "code",
   "execution_count": 68,
   "metadata": {},
   "outputs": [],
   "source": [
    "import pandas as pd\n",
    "#print(data_2014[data_2014['expend'] > 8000])"
   ]
  },
  {
   "cell_type": "markdown",
   "metadata": {},
   "source": [
    "### 2014"
   ]
  },
  {
   "cell_type": "code",
   "execution_count": 69,
   "metadata": {},
   "outputs": [],
   "source": [
    "data_2014 = pd.read_csv('healthcare/healthcare_2014.csv')\n",
    "data_2014.rename(columns={' expenditure':'expend'}, inplace=True)\n",
    "data_2014.expend = [x.strip('$') for x in data_2014.expend]\n",
    "data_2014['expend'] = data_2014['expend'].astype(int)\n",
    "data_2014['year'] = 2014\n",
    "df = data_2014"
   ]
  },
  {
   "cell_type": "markdown",
   "metadata": {},
   "source": [
    "### 2013"
   ]
  },
  {
   "cell_type": "code",
   "execution_count": 70,
   "metadata": {},
   "outputs": [],
   "source": [
    "data_2013 = pd.read_csv('healthcare/healthcare_2013.csv')\n",
    "data_2013.rename(columns={' expenditure':'expend'}, inplace=True)\n",
    "data_2013.expend = [x.strip('$') for x in data_2013.expend]\n",
    "data_2013['expend'] = data_2013['expend'].astype(int)\n",
    "data_2013['year'] = 2013\n",
    "df = df.append(data_2013)"
   ]
  },
  {
   "cell_type": "markdown",
   "metadata": {},
   "source": [
    "### 2012"
   ]
  },
  {
   "cell_type": "code",
   "execution_count": 71,
   "metadata": {},
   "outputs": [],
   "source": [
    "data_2012 = pd.read_csv('healthcare/healthcare_2012.csv')\n",
    "data_2012.rename(columns={' expenditure':'expend'}, inplace=True)\n",
    "data_2012.expend = [x.strip('$') for x in data_2012.expend]\n",
    "data_2012['expend'] = data_2012['expend'].astype(int)\n",
    "data_2012['year'] = 2012\n",
    "df = df.append(data_2012)"
   ]
  },
  {
   "cell_type": "markdown",
   "metadata": {},
   "source": [
    "### 2011"
   ]
  },
  {
   "cell_type": "code",
   "execution_count": 72,
   "metadata": {},
   "outputs": [],
   "source": [
    "data_2011 = pd.read_csv('healthcare/healthcare_2011.csv')\n",
    "data_2011.rename(columns={' expenditure':'expend'}, inplace=True)\n",
    "data_2011.expend = [x.strip('$') for x in data_2011.expend]\n",
    "data_2011['expend'] = data_2011['expend'].astype(int)\n",
    "data_2011['year'] = 2011\n",
    "df = df.append(data_2011)"
   ]
  },
  {
   "cell_type": "markdown",
   "metadata": {},
   "source": [
    "### 2010"
   ]
  },
  {
   "cell_type": "code",
   "execution_count": 73,
   "metadata": {},
   "outputs": [],
   "source": [
    "data_2010 = pd.read_csv('healthcare/healthcare_2010.csv')\n",
    "data_2010.rename(columns={' expenditure':'expend'}, inplace=True)\n",
    "data_2010.expend = [x.strip('$') for x in data_2010.expend]\n",
    "data_2010['expend'] = data_2010['expend'].astype(int)\n",
    "data_2010['year'] = 2010\n",
    "df = df.append(data_2010)"
   ]
  },
  {
   "cell_type": "markdown",
   "metadata": {},
   "source": [
    "### 2009"
   ]
  },
  {
   "cell_type": "code",
   "execution_count": 74,
   "metadata": {},
   "outputs": [],
   "source": [
    "data_2009 = pd.read_csv('healthcare/healthcare_2009.csv')\n",
    "data_2009.rename(columns={' expenditure':'expend'}, inplace=True)\n",
    "data_2009.expend = [x.strip('$') for x in data_2009.expend]\n",
    "data_2009['expend'] = data_2009['expend'].astype(int)\n",
    "data_2009['year'] = 2009\n",
    "df = df.append(data_2009)"
   ]
  },
  {
   "cell_type": "markdown",
   "metadata": {},
   "source": [
    "### 2008"
   ]
  },
  {
   "cell_type": "code",
   "execution_count": 75,
   "metadata": {},
   "outputs": [],
   "source": [
    "data_2008 = pd.read_csv('healthcare/healthcare_2008.csv')\n",
    "data_2008.rename(columns={' expenditure':'expend'}, inplace=True)\n",
    "data_2008.expend = [x.strip('$') for x in data_2008.expend]\n",
    "data_2008['expend'] = data_2008['expend'].astype(int)\n",
    "data_2008['year'] = 2008\n",
    "df = df.append(data_2008)"
   ]
  },
  {
   "cell_type": "markdown",
   "metadata": {},
   "source": [
    "### 2007"
   ]
  },
  {
   "cell_type": "code",
   "execution_count": 76,
   "metadata": {},
   "outputs": [],
   "source": [
    "data_2007 = pd.read_csv('healthcare/healthcare_2007.csv')\n",
    "data_2007.rename(columns={' expenditure':'expend'}, inplace=True)\n",
    "data_2007.expend = [x.strip('$') for x in data_2007.expend]\n",
    "data_2007['expend'] = data_2007['expend'].astype(int)\n",
    "data_2007['year'] = 2007\n",
    "df = df.append(data_2007)"
   ]
  },
  {
   "cell_type": "markdown",
   "metadata": {},
   "source": [
    "### 2006"
   ]
  },
  {
   "cell_type": "code",
   "execution_count": 77,
   "metadata": {},
   "outputs": [],
   "source": [
    "data_2006 = pd.read_csv('healthcare/healthcare_2006.csv')\n",
    "data_2006.rename(columns={' expenditure':'expend'}, inplace=True)\n",
    "data_2006.expend = [x.strip('$') for x in data_2006.expend]\n",
    "data_2006['expend'] = data_2006['expend'].astype(int)\n",
    "data_2006['year'] = 2006\n",
    "df = df.append(data_2006)"
   ]
  },
  {
   "cell_type": "markdown",
   "metadata": {},
   "source": [
    "### 2005"
   ]
  },
  {
   "cell_type": "code",
   "execution_count": 78,
   "metadata": {},
   "outputs": [],
   "source": [
    "data_2005 = pd.read_csv('healthcare/healthcare_2005.csv')\n",
    "data_2005.rename(columns={' expenditure':'expend'}, inplace=True)\n",
    "data_2005.expend = [x.strip('$') for x in data_2005.expend]\n",
    "data_2005['expend'] = data_2005['expend'].astype(int)\n",
    "data_2005['year'] = 2005\n",
    "df = df.append(data_2005)"
   ]
  },
  {
   "cell_type": "markdown",
   "metadata": {},
   "source": [
    "### 2004"
   ]
  },
  {
   "cell_type": "code",
   "execution_count": 79,
   "metadata": {},
   "outputs": [],
   "source": [
    "data_2004 = pd.read_csv('healthcare/healthcare_2004.csv')\n",
    "data_2004.rename(columns={' expenditure':'expend'}, inplace=True)\n",
    "data_2004.expend = [x.strip('$') for x in data_2004.expend]\n",
    "data_2004['expend'] = data_2004['expend'].astype(int)\n",
    "data_2004['year'] = 2004\n",
    "df = df.append(data_2004)"
   ]
  },
  {
   "cell_type": "markdown",
   "metadata": {},
   "source": [
    "### 2003"
   ]
  },
  {
   "cell_type": "code",
   "execution_count": 80,
   "metadata": {},
   "outputs": [],
   "source": [
    "data_2003 = pd.read_csv('healthcare/healthcare_2003.csv')\n",
    "data_2003.rename(columns={' expenditure':'expend'}, inplace=True)\n",
    "data_2003.expend = [x.strip('$') for x in data_2003.expend]\n",
    "data_2003['expend'] = data_2003['expend'].astype(int)\n",
    "data_2003['year'] = 2003\n",
    "df = df.append(data_2003)"
   ]
  },
  {
   "cell_type": "markdown",
   "metadata": {},
   "source": [
    "### 2002"
   ]
  },
  {
   "cell_type": "code",
   "execution_count": 81,
   "metadata": {},
   "outputs": [],
   "source": [
    "data_2002 = pd.read_csv('healthcare/healthcare_2002.csv')\n",
    "data_2002.rename(columns={' expenditure':'expend'}, inplace=True)\n",
    "data_2002.expend = [x.strip('$') for x in data_2002.expend]\n",
    "data_2002['expend'] = data_2002['expend'].astype(int)\n",
    "data_2002['year'] = 2002\n",
    "df = df.append(data_2002)"
   ]
  },
  {
   "cell_type": "markdown",
   "metadata": {},
   "source": [
    "### 2001"
   ]
  },
  {
   "cell_type": "code",
   "execution_count": 82,
   "metadata": {},
   "outputs": [],
   "source": [
    "data_2001 = pd.read_csv('healthcare/healthcare_2001.csv')\n",
    "data_2001.rename(columns={' expenditure':'expend'}, inplace=True)\n",
    "data_2001.expend = [x.strip('$') for x in data_2001.expend]\n",
    "data_2001['expend'] = data_2001['expend'].astype(int)\n",
    "data_2001['year'] = 2001\n",
    "df = df.append(data_2001)"
   ]
  },
  {
   "cell_type": "markdown",
   "metadata": {},
   "source": [
    "### 2000"
   ]
  },
  {
   "cell_type": "code",
   "execution_count": 83,
   "metadata": {},
   "outputs": [],
   "source": [
    "data_2000 = pd.read_csv('healthcare/healthcare_2000.csv')\n",
    "data_2000.rename(columns={' expenditure':'expend'}, inplace=True)\n",
    "data_2000.expend = [x.strip('$') for x in data_2000.expend]\n",
    "data_2000['expend'] = data_2000['expend'].astype(int)\n",
    "data_2000['year'] = 2000\n",
    "df = df.append(data_2000)"
   ]
  },
  {
   "cell_type": "markdown",
   "metadata": {},
   "source": [
    "### 1999"
   ]
  },
  {
   "cell_type": "code",
   "execution_count": 84,
   "metadata": {},
   "outputs": [],
   "source": [
    "data_1999 = pd.read_csv('healthcare/healthcare_1999.csv')\n",
    "data_1999.rename(columns={' expenditure':'expend'}, inplace=True)\n",
    "data_1999.expend = [x.strip('$') for x in data_1999.expend]\n",
    "data_1999['expend'] = data_1999['expend'].astype(int)\n",
    "data_1999['year'] = 1999\n",
    "df = df.append(data_1999)"
   ]
  },
  {
   "cell_type": "markdown",
   "metadata": {},
   "source": [
    "### 1998"
   ]
  },
  {
   "cell_type": "code",
   "execution_count": 85,
   "metadata": {},
   "outputs": [],
   "source": [
    "data_1998 = pd.read_csv('healthcare/healthcare_1998.csv')\n",
    "data_1998.rename(columns={' expenditure':'expend'}, inplace=True)\n",
    "data_1998.expend = [x.strip('$') for x in data_1998.expend]\n",
    "data_1998['expend'] = data_1998['expend'].astype(int)\n",
    "data_1998['year'] = 1998\n",
    "df = df.append(data_1998)"
   ]
  },
  {
   "cell_type": "markdown",
   "metadata": {},
   "source": [
    "### 1997"
   ]
  },
  {
   "cell_type": "code",
   "execution_count": 86,
   "metadata": {},
   "outputs": [],
   "source": [
    "data_1997 = pd.read_csv('healthcare/healthcare_1997.csv')\n",
    "data_1997.rename(columns={' expenditure':'expend'}, inplace=True)\n",
    "data_1997.expend = [x.strip('$') for x in data_1997.expend]\n",
    "data_1997['expend'] = data_1997['expend'].astype(int)\n",
    "data_1997['year'] = 1997\n",
    "df = df.append(data_1997)"
   ]
  },
  {
   "cell_type": "markdown",
   "metadata": {},
   "source": [
    "### 1996"
   ]
  },
  {
   "cell_type": "code",
   "execution_count": 87,
   "metadata": {},
   "outputs": [],
   "source": [
    "data_1996 = pd.read_csv('healthcare/healthcare_1996.csv')\n",
    "data_1996.rename(columns={' expenditure':'expend'}, inplace=True)\n",
    "data_1996.expend = [x.strip('$') for x in data_1996.expend]\n",
    "data_1996['expend'] = data_1996['expend'].astype(int)\n",
    "data_1996['year'] = 1996\n",
    "df = df.append(data_1996)"
   ]
  },
  {
   "cell_type": "markdown",
   "metadata": {},
   "source": [
    "### 1995"
   ]
  },
  {
   "cell_type": "code",
   "execution_count": 88,
   "metadata": {},
   "outputs": [],
   "source": [
    "data_1995 = pd.read_csv('healthcare/healthcare_1995.csv')\n",
    "data_1995.rename(columns={' expenditure':'expend'}, inplace=True)\n",
    "data_1995.expend = [x.strip('$') for x in data_1995.expend]\n",
    "data_1995['expend'] = data_1995['expend'].astype(int)\n",
    "data_1995['year'] = 1995\n",
    "df = df.append(data_1995)"
   ]
  },
  {
   "cell_type": "markdown",
   "metadata": {},
   "source": [
    "### 1994"
   ]
  },
  {
   "cell_type": "code",
   "execution_count": 89,
   "metadata": {},
   "outputs": [],
   "source": [
    "data_1994 = pd.read_csv('healthcare/healthcare_1994.csv')\n",
    "data_1994.rename(columns={' expenditure':'expend'}, inplace=True)\n",
    "data_1994.expend = [x.strip('$') for x in data_1994.expend]\n",
    "data_1994['expend'] = data_1994['expend'].astype(int)\n",
    "data_1994['year'] = 1994\n",
    "df = df.append(data_1994)"
   ]
  },
  {
   "cell_type": "markdown",
   "metadata": {},
   "source": [
    "### 1993"
   ]
  },
  {
   "cell_type": "code",
   "execution_count": 90,
   "metadata": {},
   "outputs": [],
   "source": [
    "data_1993 = pd.read_csv('healthcare/healthcare_1993.csv')\n",
    "data_1993.rename(columns={' expenditure':'expend'}, inplace=True)\n",
    "data_1993.expend = [x.strip('$') for x in data_1993.expend]\n",
    "data_1993['expend'] = data_1993['expend'].astype(int)\n",
    "data_1993['year'] = 1993\n",
    "df = df.append(data_1993)"
   ]
  },
  {
   "cell_type": "markdown",
   "metadata": {},
   "source": [
    "### 1992"
   ]
  },
  {
   "cell_type": "code",
   "execution_count": 91,
   "metadata": {},
   "outputs": [],
   "source": [
    "data_1992 = pd.read_csv('healthcare/healthcare_1992.csv')\n",
    "data_1992.rename(columns={' expenditure':'expend'}, inplace=True)\n",
    "data_1992.expend = [x.strip('$') for x in data_1992.expend]\n",
    "data_1992['expend'] = data_1992['expend'].astype(int)\n",
    "data_1992['year'] = 1992\n",
    "df = df.append(data_1992)"
   ]
  },
  {
   "cell_type": "markdown",
   "metadata": {},
   "source": [
    "### 1991"
   ]
  },
  {
   "cell_type": "code",
   "execution_count": 92,
   "metadata": {},
   "outputs": [],
   "source": [
    "data_1991 = pd.read_csv('healthcare/healthcare_1991.csv')\n",
    "data_1991.rename(columns={' expenditure':'expend'}, inplace=True)\n",
    "data_1991['year'] = 1991\n",
    "df = df.append(data_1991)"
   ]
  },
  {
   "cell_type": "code",
   "execution_count": 93,
   "metadata": {},
   "outputs": [
    {
     "name": "stdout",
     "output_type": "stream",
     "text": [
      "(1248, 3)\n"
     ]
    }
   ],
   "source": [
    "print(df.shape)"
   ]
  },
  {
   "cell_type": "markdown",
   "metadata": {},
   "source": [
    "### Exporting into one file\n",
    "All the data that is stored in the dataframe will be stored in 'healthcare_data.csv' in\n",
    "healthcare folder. "
   ]
  },
  {
   "cell_type": "code",
   "execution_count": 94,
   "metadata": {},
   "outputs": [],
   "source": [
    "df.to_csv(r'/Users/gamja/Desktop/Projects/COGS108/group/Projects/healthcare/healthcare_final.csv')\n"
   ]
  },
  {
   "cell_type": "code",
   "execution_count": null,
   "metadata": {},
   "outputs": [],
   "source": []
  }
 ],
 "metadata": {
  "kernelspec": {
   "display_name": "Python 3",
   "language": "python",
   "name": "python3"
  },
  "language_info": {
   "codemirror_mode": {
    "name": "ipython",
    "version": 3
   },
   "file_extension": ".py",
   "mimetype": "text/x-python",
   "name": "python",
   "nbconvert_exporter": "python",
   "pygments_lexer": "ipython3",
   "version": "3.7.1"
  }
 },
 "nbformat": 4,
 "nbformat_minor": 2
}
