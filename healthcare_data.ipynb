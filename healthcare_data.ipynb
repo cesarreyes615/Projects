{
 "cells": [
  {
   "cell_type": "code",
   "execution_count": 1,
   "metadata": {},
   "outputs": [],
   "source": [
    "import pandas as pd\n",
    "#print(data_2014[data_2014['expend'] > 8000])"
   ]
  },
  {
   "cell_type": "code",
   "execution_count": 11,
   "metadata": {},
   "outputs": [
    {
     "data": {
      "text/plain": [
       "Index(['state', 'expend'], dtype='object')"
      ]
     },
     "execution_count": 11,
     "metadata": {},
     "output_type": "execute_result"
    }
   ],
   "source": [
    "data_2014 = pd.read_csv('healthcare/healthcare_2014.csv')\n",
    "data_2014.rename(columns={' expenditure':'expend'}, inplace=True)\n",
    "data_2014.expend = [x.strip('$') for x in data_2014.expend]\n",
    "data_2014['expend'] = data_2014['expend'].astype(int)"
   ]
  },
  {
   "cell_type": "code",
   "execution_count": 3,
   "metadata": {},
   "outputs": [
    {
     "name": "stdout",
     "output_type": "stream",
     "text": [
      "                   state  expend\n",
      "0          United States    8045\n",
      "2                 Alaska   11064\n",
      "7            Connecticut    9859\n",
      "8               Delaware   10254\n",
      "9   District of Columbia   11944\n",
      "10               Florida    8076\n",
      "14              Illinois    8262\n",
      "15               Indiana    8300\n",
      "16                  Iowa    8200\n",
      "18              Kentucky    8004\n",
      "20                 Maine    9531\n",
      "21              Maryland    8602\n",
      "22         Massachusetts   10559\n",
      "23              Michigan    8055\n",
      "24             Minnesota    8871\n",
      "26              Missouri    8107\n",
      "27               Montana    8221\n",
      "28              Nebraska    8412\n",
      "30         New Hampshire    9589\n",
      "31            New Jersey    8859\n",
      "33              New York    9778\n",
      "35          North Dakota    9851\n",
      "36                  Ohio    8712\n",
      "38                Oregon    8044\n",
      "39          Pennsylvania    9258\n",
      "40          Rhode Island    9551\n",
      "42          South Dakota    8933\n",
      "46               Vermont   10190\n",
      "49         West Virginia    9462\n",
      "50             Wisconsin    8702\n",
      "51               Wyoming    8320\n"
     ]
    }
   ],
   "source": [
    "data_2013 = pd.read_csv('healthcare/healthcare_2014.csv')\n",
    "data_2014.rename(columns={' expenditure':'expend'}, inplace=True)\n",
    "data_2014.expend = [x.strip('$') for x in data_2014.expend]\n",
    "data_2014['expend'] = data_2014['expend'].astype(int)"
   ]
  },
  {
   "cell_type": "code",
   "execution_count": null,
   "metadata": {},
   "outputs": [],
   "source": []
  },
  {
   "cell_type": "code",
   "execution_count": null,
   "metadata": {},
   "outputs": [],
   "source": []
  }
 ],
 "metadata": {
  "kernelspec": {
   "display_name": "Python 3",
   "language": "python",
   "name": "python3"
  },
  "language_info": {
   "codemirror_mode": {
    "name": "ipython",
    "version": 3
   },
   "file_extension": ".py",
   "mimetype": "text/x-python",
   "name": "python",
   "nbconvert_exporter": "python",
   "pygments_lexer": "ipython3",
   "version": "3.7.1"
  }
 },
 "nbformat": 4,
 "nbformat_minor": 2
}
